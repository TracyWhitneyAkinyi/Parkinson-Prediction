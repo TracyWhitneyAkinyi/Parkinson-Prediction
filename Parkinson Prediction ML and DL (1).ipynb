{
 "cells": [
  {
   "cell_type": "markdown",
   "id": "84d9bc11",
   "metadata": {},
   "source": [
    "# Parkinson's Disease Prediction"
   ]
  },
  {
   "cell_type": "markdown",
   "id": "ee026cd6",
   "metadata": {},
   "source": [
    "Parkinson's disease is a progressive nervous system disorder that affects movement. This project involves the use of machine learning and deep learning to build a model using which we can accurately detect presence of Parkinson's disease in one's body.First, we import the necessary libraries that we will use throughout this project."
   ]
  },
  {
   "cell_type": "code",
   "execution_count": 66,
   "id": "49f34ba1",
   "metadata": {},
   "outputs": [],
   "source": [
    "#import packages\n",
    "\n",
    "import pandas as pd\n",
    "import numpy as np\n",
    "import matplotlib.pyplot as plt\n",
    "import tensorflow as tf\n",
    "from tensorflow import keras\n",
    "from tensorflow.keras import layers\n",
    "from sklearn.model_selection import train_test_split\n",
    "from sklearn.preprocessing import StandardScaler\n",
    "from sklearn.compose import make_column_transformer\n",
    "from sklearn.metrics import accuracy_score\n",
    "from xgboost import XGBClassifier\n"
   ]
  },
  {
   "cell_type": "markdown",
   "id": "292bb644",
   "metadata": {},
   "source": [
    "We read the dataset.Then use the function *parkinson.head()* to get a view of the dataset before we work on it. "
   ]
  },
  {
   "cell_type": "code",
   "execution_count": 67,
   "id": "9284abfe",
   "metadata": {},
   "outputs": [],
   "source": [
    "parkinson=pd.read_csv(\"C:/Users/TRACY WHITNEY/Desktop/kaggle datasets/Parkinsons Disease Classification/pd_speech_features.csv\")"
   ]
  },
  {
   "cell_type": "code",
   "execution_count": 68,
   "id": "10d876b2",
   "metadata": {},
   "outputs": [
    {
     "data": {
      "text/html": [
       "<div>\n",
       "<style scoped>\n",
       "    .dataframe tbody tr th:only-of-type {\n",
       "        vertical-align: middle;\n",
       "    }\n",
       "\n",
       "    .dataframe tbody tr th {\n",
       "        vertical-align: top;\n",
       "    }\n",
       "\n",
       "    .dataframe thead th {\n",
       "        text-align: right;\n",
       "    }\n",
       "</style>\n",
       "<table border=\"1\" class=\"dataframe\">\n",
       "  <thead>\n",
       "    <tr style=\"text-align: right;\">\n",
       "      <th></th>\n",
       "      <th>gender</th>\n",
       "      <th>PPE</th>\n",
       "      <th>DFA</th>\n",
       "      <th>RPDE</th>\n",
       "      <th>numPulses</th>\n",
       "      <th>numPeriodsPulses</th>\n",
       "      <th>meanPeriodPulses</th>\n",
       "      <th>stdDevPeriodPulses</th>\n",
       "      <th>locPctJitter</th>\n",
       "      <th>locAbsJitter</th>\n",
       "      <th>...</th>\n",
       "      <th>tqwt_kurtosisValue_dec_28</th>\n",
       "      <th>tqwt_kurtosisValue_dec_29</th>\n",
       "      <th>tqwt_kurtosisValue_dec_30</th>\n",
       "      <th>tqwt_kurtosisValue_dec_31</th>\n",
       "      <th>tqwt_kurtosisValue_dec_32</th>\n",
       "      <th>tqwt_kurtosisValue_dec_33</th>\n",
       "      <th>tqwt_kurtosisValue_dec_34</th>\n",
       "      <th>tqwt_kurtosisValue_dec_35</th>\n",
       "      <th>tqwt_kurtosisValue_dec_36</th>\n",
       "      <th>class</th>\n",
       "    </tr>\n",
       "  </thead>\n",
       "  <tbody>\n",
       "    <tr>\n",
       "      <th>0</th>\n",
       "      <td>1</td>\n",
       "      <td>0.85247</td>\n",
       "      <td>0.71826</td>\n",
       "      <td>0.57227</td>\n",
       "      <td>240</td>\n",
       "      <td>239</td>\n",
       "      <td>0.008064</td>\n",
       "      <td>0.000087</td>\n",
       "      <td>0.00218</td>\n",
       "      <td>0.000018</td>\n",
       "      <td>...</td>\n",
       "      <td>1.5620</td>\n",
       "      <td>2.6445</td>\n",
       "      <td>3.8686</td>\n",
       "      <td>4.2105</td>\n",
       "      <td>5.1221</td>\n",
       "      <td>4.4625</td>\n",
       "      <td>2.6202</td>\n",
       "      <td>3.0004</td>\n",
       "      <td>18.9405</td>\n",
       "      <td>1</td>\n",
       "    </tr>\n",
       "    <tr>\n",
       "      <th>1</th>\n",
       "      <td>1</td>\n",
       "      <td>0.76686</td>\n",
       "      <td>0.69481</td>\n",
       "      <td>0.53966</td>\n",
       "      <td>234</td>\n",
       "      <td>233</td>\n",
       "      <td>0.008258</td>\n",
       "      <td>0.000073</td>\n",
       "      <td>0.00195</td>\n",
       "      <td>0.000016</td>\n",
       "      <td>...</td>\n",
       "      <td>1.5589</td>\n",
       "      <td>3.6107</td>\n",
       "      <td>23.5155</td>\n",
       "      <td>14.1962</td>\n",
       "      <td>11.0261</td>\n",
       "      <td>9.5082</td>\n",
       "      <td>6.5245</td>\n",
       "      <td>6.3431</td>\n",
       "      <td>45.1780</td>\n",
       "      <td>1</td>\n",
       "    </tr>\n",
       "    <tr>\n",
       "      <th>2</th>\n",
       "      <td>1</td>\n",
       "      <td>0.85083</td>\n",
       "      <td>0.67604</td>\n",
       "      <td>0.58982</td>\n",
       "      <td>232</td>\n",
       "      <td>231</td>\n",
       "      <td>0.008340</td>\n",
       "      <td>0.000060</td>\n",
       "      <td>0.00176</td>\n",
       "      <td>0.000015</td>\n",
       "      <td>...</td>\n",
       "      <td>1.5643</td>\n",
       "      <td>2.3308</td>\n",
       "      <td>9.4959</td>\n",
       "      <td>10.7458</td>\n",
       "      <td>11.0177</td>\n",
       "      <td>4.8066</td>\n",
       "      <td>2.9199</td>\n",
       "      <td>3.1495</td>\n",
       "      <td>4.7666</td>\n",
       "      <td>1</td>\n",
       "    </tr>\n",
       "    <tr>\n",
       "      <th>3</th>\n",
       "      <td>0</td>\n",
       "      <td>0.41121</td>\n",
       "      <td>0.79672</td>\n",
       "      <td>0.59257</td>\n",
       "      <td>178</td>\n",
       "      <td>177</td>\n",
       "      <td>0.010858</td>\n",
       "      <td>0.000183</td>\n",
       "      <td>0.00419</td>\n",
       "      <td>0.000046</td>\n",
       "      <td>...</td>\n",
       "      <td>3.7805</td>\n",
       "      <td>3.5664</td>\n",
       "      <td>5.2558</td>\n",
       "      <td>14.0403</td>\n",
       "      <td>4.2235</td>\n",
       "      <td>4.6857</td>\n",
       "      <td>4.8460</td>\n",
       "      <td>6.2650</td>\n",
       "      <td>4.0603</td>\n",
       "      <td>1</td>\n",
       "    </tr>\n",
       "    <tr>\n",
       "      <th>4</th>\n",
       "      <td>0</td>\n",
       "      <td>0.32790</td>\n",
       "      <td>0.79782</td>\n",
       "      <td>0.53028</td>\n",
       "      <td>236</td>\n",
       "      <td>235</td>\n",
       "      <td>0.008162</td>\n",
       "      <td>0.002669</td>\n",
       "      <td>0.00535</td>\n",
       "      <td>0.000044</td>\n",
       "      <td>...</td>\n",
       "      <td>6.1727</td>\n",
       "      <td>5.8416</td>\n",
       "      <td>6.0805</td>\n",
       "      <td>5.7621</td>\n",
       "      <td>7.7817</td>\n",
       "      <td>11.6891</td>\n",
       "      <td>8.2103</td>\n",
       "      <td>5.0559</td>\n",
       "      <td>6.1164</td>\n",
       "      <td>1</td>\n",
       "    </tr>\n",
       "  </tbody>\n",
       "</table>\n",
       "<p>5 rows × 754 columns</p>\n",
       "</div>"
      ],
      "text/plain": [
       "   gender      PPE      DFA     RPDE  numPulses  numPeriodsPulses  \\\n",
       "0       1  0.85247  0.71826  0.57227        240               239   \n",
       "1       1  0.76686  0.69481  0.53966        234               233   \n",
       "2       1  0.85083  0.67604  0.58982        232               231   \n",
       "3       0  0.41121  0.79672  0.59257        178               177   \n",
       "4       0  0.32790  0.79782  0.53028        236               235   \n",
       "\n",
       "   meanPeriodPulses  stdDevPeriodPulses  locPctJitter  locAbsJitter  ...  \\\n",
       "0          0.008064            0.000087       0.00218      0.000018  ...   \n",
       "1          0.008258            0.000073       0.00195      0.000016  ...   \n",
       "2          0.008340            0.000060       0.00176      0.000015  ...   \n",
       "3          0.010858            0.000183       0.00419      0.000046  ...   \n",
       "4          0.008162            0.002669       0.00535      0.000044  ...   \n",
       "\n",
       "   tqwt_kurtosisValue_dec_28  tqwt_kurtosisValue_dec_29  \\\n",
       "0                     1.5620                     2.6445   \n",
       "1                     1.5589                     3.6107   \n",
       "2                     1.5643                     2.3308   \n",
       "3                     3.7805                     3.5664   \n",
       "4                     6.1727                     5.8416   \n",
       "\n",
       "   tqwt_kurtosisValue_dec_30  tqwt_kurtosisValue_dec_31  \\\n",
       "0                     3.8686                     4.2105   \n",
       "1                    23.5155                    14.1962   \n",
       "2                     9.4959                    10.7458   \n",
       "3                     5.2558                    14.0403   \n",
       "4                     6.0805                     5.7621   \n",
       "\n",
       "   tqwt_kurtosisValue_dec_32  tqwt_kurtosisValue_dec_33  \\\n",
       "0                     5.1221                     4.4625   \n",
       "1                    11.0261                     9.5082   \n",
       "2                    11.0177                     4.8066   \n",
       "3                     4.2235                     4.6857   \n",
       "4                     7.7817                    11.6891   \n",
       "\n",
       "   tqwt_kurtosisValue_dec_34  tqwt_kurtosisValue_dec_35  \\\n",
       "0                     2.6202                     3.0004   \n",
       "1                     6.5245                     6.3431   \n",
       "2                     2.9199                     3.1495   \n",
       "3                     4.8460                     6.2650   \n",
       "4                     8.2103                     5.0559   \n",
       "\n",
       "   tqwt_kurtosisValue_dec_36  class  \n",
       "0                    18.9405      1  \n",
       "1                    45.1780      1  \n",
       "2                     4.7666      1  \n",
       "3                     4.0603      1  \n",
       "4                     6.1164      1  \n",
       "\n",
       "[5 rows x 754 columns]"
      ]
     },
     "execution_count": 68,
     "metadata": {},
     "output_type": "execute_result"
    }
   ],
   "source": [
    "parkinson.head()"
   ]
  },
  {
   "cell_type": "markdown",
   "id": "0a6ac3bf",
   "metadata": {},
   "source": [
    "To obtain the *features* and *labels* from the dataset.We have to understand that are inclusive of all the columns except **class** and **gender**, while the labels only have the **class** columns. "
   ]
  },
  {
   "cell_type": "code",
   "execution_count": 69,
   "id": "df0dc75f",
   "metadata": {},
   "outputs": [],
   "source": [
    "features=parkinson.loc[:,parkinson.columns!=('class','gender')]\n",
    "labels=parkinson.loc[:,'class'].values"
   ]
  },
  {
   "cell_type": "markdown",
   "id": "a723bd8d",
   "metadata": {},
   "source": [
    "The class column has either 0 and 1.We shall obtain the counts of these labels"
   ]
  },
  {
   "cell_type": "code",
   "execution_count": 70,
   "id": "32654d41",
   "metadata": {},
   "outputs": [
    {
     "name": "stdout",
     "output_type": "stream",
     "text": [
      "564 192\n"
     ]
    }
   ],
   "source": [
    "print(labels[labels==1].shape[0],labels[labels==0].shape[0])"
   ]
  },
  {
   "cell_type": "markdown",
   "id": "5a7e59f4",
   "metadata": {},
   "source": [
    "We have 564 ones and 192 zeros in the class column"
   ]
  },
  {
   "cell_type": "markdown",
   "id": "42d2146a",
   "metadata": {},
   "source": [
    "Next we initialize a **StandardScaler**. The StandardScaler standardizes the feature by subtracting the mean and then scaling the unit variance. The function method fits the values then scales them "
   ]
  },
  {
   "cell_type": "code",
   "execution_count": 71,
   "id": "45bd7d67",
   "metadata": {},
   "outputs": [],
   "source": [
    "x=features\n",
    "y=labels\n",
    "preprocessor=make_column_transformer((StandardScaler(),list(x.columns)))"
   ]
  },
  {
   "cell_type": "markdown",
   "id": "a90e73bc",
   "metadata": {},
   "source": [
    "Now ,split the dataset into training and testing, using 20% of the data for testing"
   ]
  },
  {
   "cell_type": "code",
   "execution_count": 72,
   "id": "2f19c931",
   "metadata": {},
   "outputs": [],
   "source": [
    "x_train,x_test,y_train,y_test=train_test_split(x,y, test_size=0.2,random_state=7)"
   ]
  },
  {
   "cell_type": "markdown",
   "id": "6bb87a1c",
   "metadata": {},
   "source": [
    "## Machine Learning"
   ]
  },
  {
   "cell_type": "markdown",
   "id": "f85ee2ea",
   "metadata": {},
   "source": [
    "### XGBoost"
   ]
  },
  {
   "cell_type": "markdown",
   "id": "e1aa9642",
   "metadata": {},
   "source": [
    "We will build a model using a XGBClassifier and train our model. The XGBoost is a machine learning algorithm is based on the decision trees model. The eXtreme Gradient Boosting falls under the Ensemble Learning. and basically uses **gradient boosting algorithms**. The advantage of XGBClassifier is that we get to train and predict using many models to produce a single superior output. The objective of the model is to accurately detect the presence of Parkinson's disease in an individual"
   ]
  },
  {
   "cell_type": "code",
   "execution_count": 73,
   "id": "083ef2f2",
   "metadata": {},
   "outputs": [
    {
     "name": "stdout",
     "output_type": "stream",
     "text": [
      "[23:36:01] WARNING: C:/Users/Administrator/workspace/xgboost-win64_release_1.5.0/src/learner.cc:1115: Starting in XGBoost 1.3.0, the default evaluation metric used with the objective 'binary:logistic' was changed from 'error' to 'logloss'. Explicitly set eval_metric if you'd like to restore the old behavior.\n"
     ]
    },
    {
     "data": {
      "text/plain": [
       "XGBClassifier(base_score=0.5, booster='gbtree', colsample_bylevel=1,\n",
       "              colsample_bynode=1, colsample_bytree=1, enable_categorical=False,\n",
       "              gamma=0, gpu_id=-1, importance_type=None,\n",
       "              interaction_constraints='', learning_rate=0.300000012,\n",
       "              max_delta_step=0, max_depth=6, min_child_weight=1, missing=nan,\n",
       "              monotone_constraints='()', n_estimators=100, n_jobs=4,\n",
       "              num_parallel_tree=1, predictor='auto', random_state=0,\n",
       "              reg_alpha=0, reg_lambda=1, scale_pos_weight=1, subsample=1,\n",
       "              tree_method='exact', validate_parameters=1, verbosity=None)"
      ]
     },
     "execution_count": 73,
     "metadata": {},
     "output_type": "execute_result"
    }
   ],
   "source": [
    "import warnings\n",
    "warnings.filterwarnings('ignore')\n",
    "mdl=XGBClassifier()\n",
    "mdl.fit(x_train,y_train)"
   ]
  },
  {
   "cell_type": "markdown",
   "id": "7114ad5c",
   "metadata": {},
   "source": [
    "Finally generating the predicted values of the x_test(y_pred) and calculating the accuracy score"
   ]
  },
  {
   "cell_type": "code",
   "execution_count": 74,
   "id": "35491fa3",
   "metadata": {},
   "outputs": [
    {
     "name": "stdout",
     "output_type": "stream",
     "text": [
      "100.0\n"
     ]
    }
   ],
   "source": [
    "y_pred=mdl.predict(x_test)\n",
    "print(accuracy_score(y_test,y_pred)*100)"
   ]
  },
  {
   "cell_type": "markdown",
   "id": "769d6cb8",
   "metadata": {},
   "source": [
    "The accuracy score using the XGBClassifier is 100%. However ,there are concerns of getting a 100% accuracy on your model. There are claims that a 100% accuracy score is probably a case of **overfitting** (using part of training data for testing), however there are other claims that a 100% accuracy score depicts a deciptively excellently model.So we decided to try out other machine learning models such as *Logistic Regression,KNN,SVM and Random Forest* to find their accuracy scores."
   ]
  },
  {
   "cell_type": "markdown",
   "id": "a564490e",
   "metadata": {},
   "source": [
    "### Other machine learning algorithms"
   ]
  },
  {
   "cell_type": "code",
   "execution_count": 75,
   "id": "593082a0",
   "metadata": {},
   "outputs": [],
   "source": [
    "#import machine learning models\n",
    "from sklearn.linear_model import LogisticRegression\n",
    "from sklearn.neighbors import KNeighborsClassifier\n",
    "from sklearn.svm import SVC \n",
    "from sklearn.ensemble import RandomForestClassifier\n",
    "from sklearn.metrics import accuracy_score,classification_report,confusion_matrix\n",
    "import warnings\n",
    "warnings.filterwarnings('ignore')"
   ]
  },
  {
   "cell_type": "code",
   "execution_count": 76,
   "id": "ff4c9380",
   "metadata": {},
   "outputs": [
    {
     "name": "stdout",
     "output_type": "stream",
     "text": [
      "{'Logistic Regression': LogisticRegression(), 'KNN': KNeighborsClassifier(), 'SVC': SVC(), 'Random Forest Classifier': RandomForestClassifier()}\n"
     ]
    }
   ],
   "source": [
    "classifiers=['Logistic Regression','KNN','SVC','Random Forest Classifier']\n",
    "pred_value=[LogisticRegression(),KNeighborsClassifier(),SVC(),RandomForestClassifier()]\n",
    "models=dict(zip(classifiers,pred_value))\n",
    "print(models)"
   ]
  },
  {
   "cell_type": "code",
   "execution_count": 77,
   "id": "83ca7be5",
   "metadata": {},
   "outputs": [
    {
     "name": "stdout",
     "output_type": "stream",
     "text": [
      "Logistic Regression 73.68421052631578\n",
      "KNN 73.02631578947368\n",
      "SVC 75.0\n",
      "Random Forest Classifier 93.42105263157895\n"
     ]
    }
   ],
   "source": [
    "for name,algo in models.items():\n",
    "    model=algo\n",
    "    model.fit(x_train,y_train)\n",
    "    predict=model.predict(x_test)\n",
    "    accuracy=accuracy_score(y_test,predict)*100\n",
    "    print(name,accuracy)"
   ]
  },
  {
   "cell_type": "markdown",
   "id": "11530449",
   "metadata": {},
   "source": [
    "The Logistic Regression, K-Nearest Neighbors, SVC accuracy scores indicate that we have a good model. While the Randiom Forest Classifier's accuracy score 93% means that it we have an excellent model."
   ]
  },
  {
   "cell_type": "markdown",
   "id": "448c3615",
   "metadata": {},
   "source": [
    "## Deep Learning"
   ]
  },
  {
   "cell_type": "markdown",
   "id": "954c25b8",
   "metadata": {},
   "source": [
    "Deep learning is a subset of machine learning that focuses on neural networks and algorithms for training neural networks.We will use *keras and tensorflow* methods to perform logistic regression.We are going to use **keras** to define our network architecture.\n",
    "Next, the Keras-based model contains three Dense layers, where the first four specify the relu activation function and the fifth layer specifies the sigmoid activation function."
   ]
  },
  {
   "cell_type": "code",
   "execution_count": 78,
   "id": "007196a7",
   "metadata": {},
   "outputs": [],
   "source": [
    "model=tf.keras.models.Sequential([\n",
    "          layers.Dense(70,activation='relu'),\n",
    "          layers.BatchNormalization(),\n",
    "          layers.Dropout(0.1),\n",
    "          layers.Dense(70,activation='relu'),\n",
    "          layers.BatchNormalization(),\n",
    "          layers.Dropout(0.1),\n",
    "          layers.Dense(40,activation='relu'),\n",
    "          layers.BatchNormalization(),\n",
    "          layers.Dropout(0.1),\n",
    "          layers.Dense(30,activation='relu'),\n",
    "          layers.BatchNormalization(),\n",
    "          layers.Dropout(0.1),\n",
    "          layers.Dense(1,activation='sigmoid')\n",
    "        ])"
   ]
  },
  {
   "cell_type": "markdown",
   "id": "6d4d85ad",
   "metadata": {},
   "source": [
    "The next code snippet compiles the model with an adam optimizer, the MSE loss function, and also specifies the accuracy and MAE for the metrics. Then scatter plots of test values and predictions\n"
   ]
  },
  {
   "cell_type": "code",
   "execution_count": 79,
   "id": "d9bcede2",
   "metadata": {},
   "outputs": [
    {
     "name": "stdout",
     "output_type": "stream",
     "text": [
      "Epoch 1/10\n",
      "61/61 [==============================] - 2s 4ms/step - loss: 0.2529 - accuracy: 0.6175 - mae: 0.4375\n",
      "Epoch 2/10\n",
      "61/61 [==============================] - 0s 4ms/step - loss: 0.2208 - accuracy: 0.6970 - mae: 0.3964\n",
      "Epoch 3/10\n",
      "61/61 [==============================] - 0s 4ms/step - loss: 0.2055 - accuracy: 0.7334 - mae: 0.3833\n",
      "Epoch 4/10\n",
      "61/61 [==============================] - 0s 4ms/step - loss: 0.1915 - accuracy: 0.7334 - mae: 0.3743\n",
      "Epoch 5/10\n",
      "61/61 [==============================] - 0s 4ms/step - loss: 0.1952 - accuracy: 0.7268 - mae: 0.3702\n",
      "Epoch 6/10\n",
      "61/61 [==============================] - 0s 4ms/step - loss: 0.1879 - accuracy: 0.7483 - mae: 0.3642\n",
      "Epoch 7/10\n",
      "61/61 [==============================] - 0s 4ms/step - loss: 0.1865 - accuracy: 0.7334 - mae: 0.3570\n",
      "Epoch 8/10\n",
      "61/61 [==============================] - 0s 4ms/step - loss: 0.1876 - accuracy: 0.7384 - mae: 0.3585\n",
      "Epoch 9/10\n",
      "61/61 [==============================] - 0s 4ms/step - loss: 0.1853 - accuracy: 0.7434 - mae: 0.3492\n",
      "Epoch 10/10\n",
      "61/61 [==============================] - 0s 4ms/step - loss: 0.1807 - accuracy: 0.7401 - mae: 0.3455\n"
     ]
    },
    {
     "data": {
      "image/png": "[encoded data removed]",
      "text/plain": [
       "<Figure size 432x288 with 1 Axes>"
      ]
     },
     "metadata": {
      "needs_background": "light"
     },
     "output_type": "display_data"
    }
   ],
   "source": [
    "model.compile(optimizer='adam', loss='mean_squared_error', metrics=['accuracy','mae'])\n",
    "model.fit(x_train, y_train, batch_size=10,epochs=10)\n",
    "\n",
    "# Predicting values from the test set\n",
    "y_pred = model.predict(x_test)\n",
    "\n",
    "# scatter plot of test values vs predictions\n",
    "fig, ax = plt.subplots()\n",
    "ax.scatter(y_test, y_pred)\n",
    "ax.plot([y_test.min(), y_test.max()], [y_test.min(), y_test.max()], 'r*--')\n",
    "ax.set_xlabel('Test values')\n",
    "ax.set_ylabel('Predictions')\n",
    "plt.show()"
   ]
  },
  {
   "cell_type": "code",
   "execution_count": null,
   "id": "40c2c545",
   "metadata": {},
   "outputs": [],
   "source": []
  }
 ],
 "metadata": {
  "kernelspec": {
   "display_name": "Python 3 (ipykernel)",
   "language": "python",
   "name": "python3"
  },
  "language_info": {
   "codemirror_mode": {
    "name": "ipython",
    "version": 3
   },
   "file_extension": ".py",
   "mimetype": "text/x-python",
   "name": "python",
   "nbconvert_exporter": "python",
   "pygments_lexer": "ipython3",
   "version": "3.8.3"
  }
 },
 "nbformat": 4,
 "nbformat_minor": 5
}
